{
 "cells": [
  {
   "cell_type": "markdown",
   "metadata": {},
   "source": [
    "# Name: Jonathan Kim \n",
    "\n",
    "# Email: jkim185@uncc.edu\n",
    "\n",
    "For this assignment, the goal is to get you acquainted with your notebook usage and layouts, as well as some of it's features. Your task will be to design two functions that find the value of a random number between 0 and X. A couple things to note\n",
    "\n",
    "- The first function you design should a brute-force approach. Loop through the entire set of numbers from 0-X, stopping when you've found the \"secret\" number\n",
    "- The second function should start at the midpoint of the range 0 to X, and ask if the secret number is smaller or larger than the midpoint. Based on that answer, find the next midpoint and ask the question again, repeating this process until the secret number is found.\n",
    "\n",
    "Once you've written these two functions, use them to find random numbers with a variety of ranges (for instance, 0 to 1000, zero to 10,000, and 0 to 1,000,000. Use the %%time or %time magic to compare the performance of each function. You should run these comparisons several times (perhaps using a loop!) to get a solid grasp on how each performs.\n",
    "\n",
    "Finally, answer the questions in the final cell.\n",
    "\n",
    "Make good use of Markdown cells to communicate what your code does, but don't neglect to continue to use inline commenting in code cells."
   ]
  },
  {
   "cell_type": "code",
   "execution_count": 1,
   "metadata": {},
   "outputs": [],
   "source": [
    "#setup cell, run me first. Generates and returns an integer between\n",
    "#   0 and upperbound\n",
    "import random as r\n",
    "\n",
    "def makeSecretNum(upperbound):\n",
    "    return r.randint(0,upperbound)"
   ]
  },
  {
   "cell_type": "markdown",
   "metadata": {},
   "source": [
    "# Search Function #1 (F1)"
   ]
  },
  {
   "cell_type": "code",
   "execution_count": 2,
   "metadata": {},
   "outputs": [],
   "source": [
    "# Brute Force function when given a range of numbers.\n",
    "def f1(x):\n",
    "    secret = makeSecretNum(x) # initialize secret number\n",
    "    # iterate through the range (x) given until secret number is found\n",
    "    for i in range(x): \n",
    "        if i == secret: \n",
    "            break\n",
    "        else: \n",
    "            continue\n",
    "    return str(secret) + \" is the secret number and \" + str(i) + \" was found!\""
   ]
  },
  {
   "cell_type": "markdown",
   "metadata": {},
   "source": [
    "## F1 Test Runs"
   ]
  },
  {
   "cell_type": "code",
   "execution_count": 3,
   "metadata": {},
   "outputs": [
    {
     "data": {
      "text/plain": [
       "'435 is the secret number and 435 was found!'"
      ]
     },
     "execution_count": 3,
     "metadata": {},
     "output_type": "execute_result"
    }
   ],
   "source": [
    "f1(1000)"
   ]
  },
  {
   "cell_type": "code",
   "execution_count": 4,
   "metadata": {},
   "outputs": [
    {
     "data": {
      "text/plain": [
       "'932 is the secret number and 932 was found!'"
      ]
     },
     "execution_count": 4,
     "metadata": {},
     "output_type": "execute_result"
    }
   ],
   "source": [
    "f1(10000)"
   ]
  },
  {
   "cell_type": "code",
   "execution_count": 5,
   "metadata": {},
   "outputs": [
    {
     "data": {
      "text/plain": [
       "'59297 is the secret number and 59297 was found!'"
      ]
     },
     "execution_count": 5,
     "metadata": {},
     "output_type": "execute_result"
    }
   ],
   "source": [
    "f1(1000000)"
   ]
  },
  {
   "cell_type": "markdown",
   "metadata": {},
   "source": [
    "## F1 Timed Runs\n",
    "I used `%%timeit` instead of `%time` or `%%time`, because the wall time gave an output of 0 ns."
   ]
  },
  {
   "cell_type": "code",
   "execution_count": 6,
   "metadata": {},
   "outputs": [
    {
     "name": "stdout",
     "output_type": "stream",
     "text": [
      "12.6 µs ± 153 ns per loop (mean ± std. dev. of 7 runs, 100000 loops each)\n"
     ]
    }
   ],
   "source": [
    "%%timeit\n",
    "# print(secret)\n",
    "# print(makeSecretNum(1000))\n",
    "f1(1000)\n",
    "# 12.5 µs ± 151 ns per loop (mean ± std. dev. of 7 runs, 100000 loops each)"
   ]
  },
  {
   "cell_type": "code",
   "execution_count": 7,
   "metadata": {},
   "outputs": [
    {
     "name": "stdout",
     "output_type": "stream",
     "text": [
      "124 µs ± 2.17 µs per loop (mean ± std. dev. of 7 runs, 10000 loops each)\n"
     ]
    }
   ],
   "source": [
    "%%timeit \n",
    "f1(10000)\n",
    "# 124 µs ± 1.19 µs per loop (mean ± std. dev. of 7 runs, 10000 loops each)"
   ]
  },
  {
   "cell_type": "code",
   "execution_count": 8,
   "metadata": {},
   "outputs": [
    {
     "name": "stdout",
     "output_type": "stream",
     "text": [
      "12.3 ms ± 1.16 ms per loop (mean ± std. dev. of 7 runs, 100 loops each)\n"
     ]
    }
   ],
   "source": [
    "%%timeit \n",
    "f1(1000000)\n",
    "# 12 ms ± 726 µs per loop (mean ± std. dev. of 7 runs, 100 loops each)"
   ]
  },
  {
   "cell_type": "markdown",
   "metadata": {},
   "source": [
    "# Search Function #2 (F2)"
   ]
  },
  {
   "cell_type": "code",
   "execution_count": 9,
   "metadata": {},
   "outputs": [],
   "source": [
    "# Midpoint Function to find the secret value in interative top or bottom halves\n",
    "def f2(x):\n",
    "    # initialize variables\n",
    "    secret = makeSecretNum(x)\n",
    "    midpoint = x // 2\n",
    "    upper = x\n",
    "    lower = 0\n",
    "    while True: # recursive iterations to narrow the range until the secret number is found\n",
    "        # have to rewrite midpoint\n",
    "        if secret > midpoint: # top half check\n",
    "            upper = upper \n",
    "            lower = midpoint # lower half is cut off\n",
    "            midpoint = (upper + lower) // 2 \n",
    "            continue\n",
    "        elif secret < midpoint: # lower half check\n",
    "            upper = midpoint # top half is cut off\n",
    "            lower = lower \n",
    "            midpoint = (lower + upper) // 2 \n",
    "            continue\n",
    "        else: # secret = midpoint check\n",
    "            midpoint = midpoint \n",
    "            break\n",
    "    return (secret, midpoint)"
   ]
  },
  {
   "cell_type": "markdown",
   "metadata": {},
   "source": [
    "## F2 Test Runs"
   ]
  },
  {
   "cell_type": "code",
   "execution_count": 10,
   "metadata": {},
   "outputs": [
    {
     "name": "stdout",
     "output_type": "stream",
     "text": [
      "The secret number was 55 and 55 was found!\n"
     ]
    }
   ],
   "source": [
    "(secretNum,foundNum) = f2(1000) \n",
    "print(\"The secret number was \" + str(secretNum) + \" and \" + str(foundNum) + \" was found!\")"
   ]
  },
  {
   "cell_type": "code",
   "execution_count": 11,
   "metadata": {},
   "outputs": [
    {
     "name": "stdout",
     "output_type": "stream",
     "text": [
      "The secret number was 2752 and 2752 was found!\n"
     ]
    }
   ],
   "source": [
    "(secretNum,foundNum) = f2(10000) \n",
    "print(\"The secret number was \" + str(secretNum) + \" and \" + str(foundNum) + \" was found!\")"
   ]
  },
  {
   "cell_type": "code",
   "execution_count": 12,
   "metadata": {},
   "outputs": [
    {
     "name": "stdout",
     "output_type": "stream",
     "text": [
      "The secret number was 45346 and 45346 was found!\n"
     ]
    }
   ],
   "source": [
    "(secretNum,foundNum) = f2(1000000) \n",
    "print(\"The secret number was \" + str(secretNum) + \" and \" + str(foundNum) + \" was found!\")"
   ]
  },
  {
   "cell_type": "markdown",
   "metadata": {},
   "source": [
    "## F2 Timed Run\n",
    "Again, I used `%timeit`, but added restricted parameters due to the default `%timeit` seeming to continuously iterate with no end."
   ]
  },
  {
   "cell_type": "code",
   "execution_count": 13,
   "metadata": {},
   "outputs": [
    {
     "name": "stdout",
     "output_type": "stream",
     "text": [
      "1.88 µs ± 378 ns per loop (mean ± std. dev. of 7 runs, 7 loops each)\n"
     ]
    }
   ],
   "source": [
    "%timeit -r 7 -n 7 f2(1000)\n",
    "# 1.85 µs ± 321 ns per loop (mean ± std. dev. of 7 runs, 7 loops each)\n",
    "# 1.83 µs ± 386 ns per loop (mean ± std. dev. of 7 runs, 7 loops each)\n",
    "# 1.84 µs ± 340 ns per loop (mean ± std. dev. of 7 runs, 7 loops each)\n",
    "# 1.83 µs ± 310 ns per loop (mean ± std. dev. of 7 runs, 7 loops each)\n",
    "# 1.86 µs ± 281 ns per loop (mean ± std. dev. of 7 runs, 7 loops each)"
   ]
  },
  {
   "cell_type": "code",
   "execution_count": 14,
   "metadata": {},
   "outputs": [
    {
     "name": "stdout",
     "output_type": "stream",
     "text": [
      "2.37 µs ± 378 ns per loop (mean ± std. dev. of 7 runs, 7 loops each)\n"
     ]
    }
   ],
   "source": [
    "%timeit -r 7 -n 7 f2(10000)\n",
    "# 2.12 µs ± 287 ns per loop (mean ± std. dev. of 7 runs, 7 loops each)"
   ]
  },
  {
   "cell_type": "code",
   "execution_count": 15,
   "metadata": {},
   "outputs": [
    {
     "name": "stdout",
     "output_type": "stream",
     "text": [
      "3.96 µs ± 498 ns per loop (mean ± std. dev. of 7 runs, 7 loops each)\n"
     ]
    }
   ],
   "source": [
    "%timeit -r 7 -n 7 f2(1000000)\n",
    "# 2.83 µs ± 346 ns per loop (mean ± std. dev. of 7 runs, 7 loops each)"
   ]
  },
  {
   "cell_type": "markdown",
   "metadata": {},
   "source": [
    "# Please answer the following:\n",
    "\n",
    "1. How does the performance of these two functions compare with small numbers? How does the performance compare with very large numbers?  \n",
    "2. What conclusions can you draw about how these functions scale?\n",
    "3. If one performs better than another, why do you think that is? And if not, why? "
   ]
  },
  {
   "cell_type": "markdown",
   "metadata": {},
   "source": [
    "## My Answers:\n",
    "##### Disclaimer: I was taught to comment sparsely during my undergrad career, but I may have overcompensated because I'm unfamiliar with how you might grade on comments. Please tell me if it is too much.\n",
    "1. Function 2 performed better at the 1000 range, the 10000 range, and the 1000000 range. Function 1's time spent searching drastically increased with increasing ranges, while function 2's only increased slightly. \n",
    "2. Function 2 is vastly better than function one and scales from 6-7 times better at the 1000 range, ~60 times better at the 10000, and ~4400 times better at the 1000000 range. Function 2 saves more time than Function 1.\n",
    "3. I think function 2 performs better because of the conserved time complexity of searching for the secret number. Function 1 has to start from the very beginning (of 0 in the range) and iterate through all the numbers in consecution whereas function 2 halves the range at every iteration of searching, greatly reducing the search time and size/range."
   ]
  },
  {
   "cell_type": "code",
   "execution_count": null,
   "metadata": {},
   "outputs": [],
   "source": []
  }
 ],
 "metadata": {
  "kernelspec": {
   "display_name": "Python 3 (ipykernel)",
   "language": "python",
   "name": "python3"
  },
  "language_info": {
   "codemirror_mode": {
    "name": "ipython",
    "version": 3
   },
   "file_extension": ".py",
   "mimetype": "text/x-python",
   "name": "python",
   "nbconvert_exporter": "python",
   "pygments_lexer": "ipython3",
   "version": "3.9.7"
  }
 },
 "nbformat": 4,
 "nbformat_minor": 2
}
