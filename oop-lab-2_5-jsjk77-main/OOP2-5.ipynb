{
 "cells": [
  {
   "cell_type": "markdown",
   "id": "5ac15c0c",
   "metadata": {},
   "source": [
    "Name: Jonathan Kim\n",
    "\n",
    "Email: jkim185@uncc.edu\n",
    "\n",
    "# OOP2.5\n",
    "\n",
    "In a notebook, start with a markdown cell and plan out what you think these 3 classes should look like. What are the common elements of Sequences (things we could define in the parent class Sequence) and what would need to be unique to DNASequence and ProteinSequence classes? **What rules do you want to enforce about what these sequences should look like and how do you want enforce those rules?** Do you need to override constructors, or could the parent's work? Remember, eventually you want these to work with the SequenceRecord class we built earlier, so don't make any huge fundamental changes that would break that.\n",
    "\n",
    " \n",
    "\n",
    "Your classes should, at minimum:\n",
    "\n",
    "have a __repr__ and __str__ that provide a meaningful representation as a string\n",
    "check that the bases or amino acids in the string are valid\n",
    "work as the argument for a SequenceRecord\n",
    "\n",
    "This bolded section is the focus of this lab. Add a static method to both of your  Sequence classes called verifySequenceContent. This method should:\n",
    "\n",
    "- take one parameter\n",
    "- return a boolean\n",
    " - true if the String provided would be a valid DNA or Protein Sequence (depends on which version of this method you're writing)\n",
    " - false if it does not\n",
    "You should then use this method inside your __init__() to verify that the String being used to create this object is valid. Raise a ValueError if this check fails (Links to an external site.)."
   ]
  },
  {
   "cell_type": "markdown",
   "id": "0115b929",
   "metadata": {},
   "source": [
    "# My Plan\n",
    "I wanted to add the functions available for DNA and protein sequences separately like translation for DNA and reverse translation for proteins. I enforced them as their type of sequence as long as they pass the `if` statement in the classes. The parent components could also work, but since this is about DNA and protein sequences, I wanted to work with only those classes. I did try to test SequenceRecord in this code as well."
   ]
  },
  {
   "cell_type": "markdown",
   "id": "299811b4",
   "metadata": {},
   "source": [
    "# Code from OOP1.5"
   ]
  },
  {
   "cell_type": "code",
   "execution_count": 1,
   "id": "0168ad77",
   "metadata": {},
   "outputs": [],
   "source": [
    "#sequence class goes here\n",
    "from functools import total_ordering\n",
    "\n",
    "@total_ordering\n",
    "class Sequence:\n",
    "    def __init__(self, seq):\n",
    "        self.seq = seq\n",
    "    def __len__(self):\n",
    "        return len(self.seq)\n",
    "    def __add__(self, other):\n",
    "        if (isinstance(other,Sequence)):\n",
    "            self.seq += other.seq\n",
    "            return Sequence(self.seq)\n",
    "        else:\n",
    "            return \"Other is not a sequence, cannot add.\"\n",
    "    # Informal Report\n",
    "    def __str__(self):\n",
    "        return self.seq\n",
    "    # Formal Representation\n",
    "    def __repr__(self):\n",
    "        return f'The Sequence is {self.seq}.'\n",
    "    # If both strings are EXACTLY the same\n",
    "    def __eq__(self,other):\n",
    "        return self.seq == other.seq\n",
    "    # Comparing lengths of two sequences\n",
    "    def __lt__(self,other):\n",
    "        return len(self.seq) < len(other.seq)"
   ]
  },
  {
   "cell_type": "markdown",
   "id": "f3e6ef03",
   "metadata": {},
   "source": [
    "### Testing of Sequences w/ Sanity Checks"
   ]
  },
  {
   "cell_type": "code",
   "execution_count": 2,
   "id": "adccb341",
   "metadata": {},
   "outputs": [
    {
     "name": "stdout",
     "output_type": "stream",
     "text": [
      "Test for __str__:  TCGTCAGCTGACTGATATAGC\n",
      "Test for __repr__:  The Sequence is TCGTCAGCTGACTGATATAGC.\n",
      "Sanity Check: s1 == s2 is  False and __eq__ gives  False\n",
      "Sanity Check: s1 == s3 is  True and __eq__ gives  True\n",
      "Sanity Check: s1 < s3 is  False and __lt__ gives  False\n",
      "Sanity Check: s2 < s3 is  True and __lt__ gives  True\n"
     ]
    }
   ],
   "source": [
    "#Use this cell for testing your Sequence class. Show us what tests you ran to confirm your methods worked correctly\n",
    "s1 = Sequence(\"TCGTCAGCTGACTGATATAGC\")\n",
    "s2 = Sequence(\"CTGACCTAGTCGATCGATCG\")\n",
    "s3 = Sequence(\"TCGTCAGCTGACTGATATAGC\")\n",
    "print(\"Test for __str__: \", s1.__str__())\n",
    "print(\"Test for __repr__: \", s1.__repr__())\n",
    "print(\"Sanity Check: s1 == s2 is \", s1 == s2, \"and __eq__ gives \", s1.__eq__(s2))\n",
    "print(\"Sanity Check: s1 == s3 is \", s1 == s3, \"and __eq__ gives \", s1.__eq__(s3))\n",
    "print(\"Sanity Check: s1 < s3 is \", s1 < s3, \"and __lt__ gives \", s1.__lt__(s3))\n",
    "print(\"Sanity Check: s2 < s3 is \", s2 < s3, \"and __lt__ gives \", s2.__lt__(s3))"
   ]
  },
  {
   "cell_type": "code",
   "execution_count": 3,
   "id": "e617694f",
   "metadata": {},
   "outputs": [
    {
     "name": "stdout",
     "output_type": "stream",
     "text": [
      "test1 True\n",
      "test2 False\n"
     ]
    }
   ],
   "source": [
    "s = 'hello'\n",
    "print(\"test1\",isinstance(s1,Sequence))\n",
    "print(\"test2\",isinstance(s1,str))"
   ]
  },
  {
   "cell_type": "code",
   "execution_count": 4,
   "id": "f7f55723",
   "metadata": {},
   "outputs": [],
   "source": [
    "# SequenceRecord class goes here\n",
    "class SequenceRecord:\n",
    "    def __init__(self,label,seq):\n",
    "        self.label = label\n",
    "        self.seq = self.seqCheck(seq)\n",
    "    def seqCheck(self, var):\n",
    "        temp = \"Not a Sequence, input a valid Sequence\"\n",
    "        if (isinstance(var,Sequence)):\n",
    "            temp = var\n",
    "        return temp\n",
    "    def __str__(self):\n",
    "        return self.label\n",
    "    def __repr__(self):\n",
    "        return f\"The header is {self.label} with sequence: {self.seq}\""
   ]
  },
  {
   "cell_type": "markdown",
   "id": "51fd4dec",
   "metadata": {},
   "source": [
    "### Sanity Check Testing"
   ]
  },
  {
   "cell_type": "code",
   "execution_count": 5,
   "id": "6fc25fc2",
   "metadata": {},
   "outputs": [
    {
     "name": "stdout",
     "output_type": "stream",
     "text": [
      "Test for __str__:  MD10G1276500\n",
      "Test for __repr__:  The header is MD10G1276500 with sequence: TCGTCAGCTGACTGATATAGC\n"
     ]
    }
   ],
   "source": [
    "# Use this cell to test your SequenceRecord class\n",
    "header1 = \"MD10G1276500\"\n",
    "header2 = \"MD10G1110200\"\n",
    "header3 = \"MD10G1036500\"\n",
    "rec = SequenceRecord(header1,s1)\n",
    "print(\"Test for __str__: \", rec.__str__())\n",
    "print(\"Test for __repr__: \", rec.__repr__())"
   ]
  },
  {
   "cell_type": "code",
   "execution_count": 6,
   "id": "a0ed43ab",
   "metadata": {},
   "outputs": [
    {
     "data": {
      "text/plain": [
       "The header is MD10G1110200 with sequence: Not a Sequence, input a valid Sequence"
      ]
     },
     "execution_count": 6,
     "metadata": {},
     "output_type": "execute_result"
    }
   ],
   "source": [
    "fakes = \"ATGCTAGCTGATGTCAG\"\n",
    "# fakeSeq # works\n",
    "fakerec = SequenceRecord(header2,fakes)\n",
    "fakerec # Does not work"
   ]
  },
  {
   "cell_type": "markdown",
   "id": "bde1b71b",
   "metadata": {},
   "source": [
    "# DNA\n",
    "\n",
    "- a translate method that will convert the DNA sequence and return a ProteinSequence object\n",
    "one other method of your choice (what you did previously is fine)"
   ]
  },
  {
   "cell_type": "code",
   "execution_count": 7,
   "id": "d73048e7",
   "metadata": {},
   "outputs": [],
   "source": [
    "class DNASequence(Sequence):\n",
    "    def __init__(self, seq):\n",
    "        if DNASequence.verifySequenceContent(seq):\n",
    "            super().__init__(seq)\n",
    "        else:\n",
    "            raise ValueError(\"Not a valid DNASequence\")\n",
    "    def __str__(self):\n",
    "        return self.seq\n",
    "    def __repr__(self):\n",
    "        return f'The DNA sequence is {self.seq}'\n",
    "    def GCcount(self):\n",
    "        count = 0\n",
    "        print(self.seq.__str__())\n",
    "        for i in self.seq.__str__():\n",
    "            if (i==\"G\") | (i==\"C\"):\n",
    "                count+=1\n",
    "        return count\n",
    "    def trans(self):\n",
    "        aa_dict = {'M':['ATG'], 'F':['TTT', 'TTC'], 'L':['TTA', 'TTG', 'CTT', 'CTC', 'CTA', 'CTG'], 'C':['TGT', 'TGC'], 'Y':['TAC', 'TAT'], 'W':['TGG'], 'P':['CCT', 'CCC', 'CCA', 'CCG'], 'H':['CAT', 'CAC'],\n",
    "    'Q':['CAA', 'CAG'], 'R':['CGT', 'CGC', 'CGA', 'CGG', 'AGA', 'AGG'], 'I':['ATT', 'ATC', 'ATA'], 'T':['ACT', 'ACC', 'ACA', 'ACG'],\n",
    "    'N':['AAT', 'AAC'], 'K':['AAA', 'AAG'], 'S':['AGT', 'AGC', 'TCT', 'TCC', 'TCA', 'TCG'], 'V':['GTT', 'GTC', 'GTA', 'GTG'],\n",
    "    'A':['GCT', 'GCC', 'GCA', 'GCG'], 'D':['GAT', 'GAC'], 'E':['GAA', 'GAG'], 'G':['GGT', 'GGC', 'GGA', 'GGG'], '*':['TAA','TAG','TGA']}\n",
    "        prot = ''\n",
    "        if (len(self.seq.__str__()))%3 == 0:\n",
    "            for i in range(0,len(self.seq.__str__()),3):\n",
    "                codon = self.seq.__str__()[i:i+3]\n",
    "                for key, values in aa_dict.items():\n",
    "                    if codon in values:\n",
    "                        prot+=key\n",
    "        else:\n",
    "            print(\"This is not a valid DNA Sequence\")\n",
    "        return prot\n",
    "    \n",
    "    #Checks if the sequence is made up of the four bases\n",
    "    @staticmethod\n",
    "    def verifySequenceContent(param):\n",
    "        boolvar = True\n",
    "        bases = [\"A\",\"T\",\"G\",\"C\"]\n",
    "        for i in range(len(param)):\n",
    "            if param.__str__()[i] not in bases:\n",
    "                boolvar = False\n",
    "                break\n",
    "        return boolvar"
   ]
  },
  {
   "cell_type": "markdown",
   "id": "51a095d3",
   "metadata": {},
   "source": [
    "# Protein\n",
    "\n",
    "- a method of your choice. In this case, if the method you would implement is too complex to reasonably implement or would use resources you don't have access to, it is okay to leave it as what is called a stub method (has only one line, \"pass\") and explain in comments what this method would do and it's purpose\n"
   ]
  },
  {
   "cell_type": "code",
   "execution_count": 8,
   "id": "3d7ff3ae",
   "metadata": {},
   "outputs": [],
   "source": [
    "import random\n",
    "class ProteinSequence(Sequence):\n",
    "    def __init__(self, seq):\n",
    "        if ProteinSequence.verifySequenceContent(seq):\n",
    "            super().__init__(seq)\n",
    "        else:\n",
    "            raise ValueError(\"Not a valid ProteinSequence\")\n",
    "    def __str__(self):\n",
    "        return self.seq\n",
    "    def __repr__(self):\n",
    "        return f'The protein sequence is {self.seq}'\n",
    "    # Reverse translation\n",
    "    # Gives a DNA sequence from a protein sequence\n",
    "    # Chooses randomly if there are more than one codon for a protein\n",
    "    def revtrans(self):\n",
    "        aa_dict = {'M':['ATG'], 'F':['TTT', 'TTC'], 'L':['TTA', 'TTG', 'CTT', 'CTC', 'CTA', 'CTG'], 'C':['TGT', 'TGC'], 'Y':['TAC', 'TAT'], 'W':['TGG'], 'P':['CCT', 'CCC', 'CCA', 'CCG'], 'H':['CAT', 'CAC'],\n",
    "    'Q':['CAA', 'CAG'], 'R':['CGT', 'CGC', 'CGA', 'CGG', 'AGA', 'AGG'], 'I':['ATT', 'ATC', 'ATA'], 'T':['ACT', 'ACC', 'ACA', 'ACG'],\n",
    "    'N':['AAT', 'AAC'], 'K':['AAA', 'AAG'], 'S':['AGT', 'AGC', 'TCT', 'TCC', 'TCA', 'TCG'], 'V':['GTT', 'GTC', 'GTA', 'GTG'],\n",
    "    'A':['GCT', 'GCC', 'GCA', 'GCG'], 'D':['GAT', 'GAC'], 'E':['GAA', 'GAG'], 'G':['GGT', 'GGC', 'GGA', 'GGG'], '*':['TAA','TAG','TGA']}\n",
    "        seq = ''\n",
    "        for i in self.seq.__str__():\n",
    "            for keys, values in aa_dict.items():\n",
    "                if i in keys:\n",
    "                    seq+=random.choice(aa_dict[keys])\n",
    "        return seq\n",
    "    \n",
    "    #Checks if the starting protein is the correct start and end\n",
    "    @staticmethod\n",
    "    def verifySequenceContent(param):\n",
    "        boolvar = True\n",
    "        aa_dict = {'M':['ATG'], 'F':['TTT', 'TTC'], 'L':['TTA', 'TTG', 'CTT', 'CTC', 'CTA', 'CTG'], 'C':['TGT', 'TGC'], 'Y':['TAC', 'TAT'], 'W':['TGG'], 'P':['CCT', 'CCC', 'CCA', 'CCG'], 'H':['CAT', 'CAC'],\n",
    "    'Q':['CAA', 'CAG'], 'R':['CGT', 'CGC', 'CGA', 'CGG', 'AGA', 'AGG'], 'I':['ATT', 'ATC', 'ATA'], 'T':['ACT', 'ACC', 'ACA', 'ACG'],\n",
    "    'N':['AAT', 'AAC'], 'K':['AAA', 'AAG'], 'S':['AGT', 'AGC', 'TCT', 'TCC', 'TCA', 'TCG'], 'V':['GTT', 'GTC', 'GTA', 'GTG'],\n",
    "    'A':['GCT', 'GCC', 'GCA', 'GCG'], 'D':['GAT', 'GAC'], 'E':['GAA', 'GAG'], 'G':['GGT', 'GGC', 'GGA', 'GGG'], '*':['TAA','TAG','TGA']}\n",
    "        keys = list(aa_dict.keys())\n",
    "        if param.__str__()[0] != \"M\":\n",
    "            boolvar = False\n",
    "        if param.__str__()[-1] != \"*\":\n",
    "            boolvar = False\n",
    "        for i in param.__str__():\n",
    "            if i not in keys:\n",
    "                boolvar = False\n",
    "                break\n",
    "        return boolvar"
   ]
  },
  {
   "cell_type": "markdown",
   "id": "de3f5772",
   "metadata": {},
   "source": [
    "# Limit Testing"
   ]
  },
  {
   "cell_type": "markdown",
   "id": "eeb23b4b",
   "metadata": {},
   "source": [
    "# Wrong Bases (Not ATGC)"
   ]
  },
  {
   "cell_type": "code",
   "execution_count": 9,
   "id": "07d9c53e",
   "metadata": {},
   "outputs": [
    {
     "ename": "ValueError",
     "evalue": "Not a valid DNASequence",
     "output_type": "error",
     "traceback": [
      "\u001b[1;31m---------------------------------------------------------------------------\u001b[0m",
      "\u001b[1;31mValueError\u001b[0m                                Traceback (most recent call last)",
      "\u001b[1;32m~\\AppData\\Local\\Temp/ipykernel_1908/2311866041.py\u001b[0m in \u001b[0;36m<module>\u001b[1;34m\u001b[0m\n\u001b[1;32m----> 1\u001b[1;33m \u001b[0ms5\u001b[0m \u001b[1;33m=\u001b[0m \u001b[0mDNASequence\u001b[0m\u001b[1;33m(\u001b[0m\u001b[0mSequence\u001b[0m\u001b[1;33m(\u001b[0m\u001b[1;34m\"ATGCGATCGATCGAGAGCTAGM\"\u001b[0m\u001b[1;33m)\u001b[0m\u001b[1;33m)\u001b[0m\u001b[1;33m\u001b[0m\u001b[1;33m\u001b[0m\u001b[0m\n\u001b[0m\u001b[0;32m      2\u001b[0m \u001b[0mprint\u001b[0m\u001b[1;33m(\u001b[0m\u001b[1;34m\"Test for __str__: \"\u001b[0m\u001b[1;33m,\u001b[0m \u001b[0ms4\u001b[0m\u001b[1;33m.\u001b[0m\u001b[0m__str__\u001b[0m\u001b[1;33m(\u001b[0m\u001b[1;33m)\u001b[0m\u001b[1;33m)\u001b[0m\u001b[1;33m\u001b[0m\u001b[1;33m\u001b[0m\u001b[0m\n\u001b[0;32m      3\u001b[0m \u001b[0mprint\u001b[0m\u001b[1;33m(\u001b[0m\u001b[1;34m\"Test for __repr__: \"\u001b[0m\u001b[1;33m,\u001b[0m \u001b[0ms4\u001b[0m\u001b[1;33m.\u001b[0m\u001b[0m__repr__\u001b[0m\u001b[1;33m(\u001b[0m\u001b[1;33m)\u001b[0m\u001b[1;33m)\u001b[0m\u001b[1;33m\u001b[0m\u001b[1;33m\u001b[0m\u001b[0m\n\u001b[0;32m      4\u001b[0m \u001b[0mprint\u001b[0m\u001b[1;33m(\u001b[0m\u001b[1;34m\"GCcount is\"\u001b[0m\u001b[1;33m,\u001b[0m \u001b[0ms4\u001b[0m\u001b[1;33m.\u001b[0m\u001b[0mGCcount\u001b[0m\u001b[1;33m(\u001b[0m\u001b[1;33m)\u001b[0m\u001b[1;33m)\u001b[0m\u001b[1;33m\u001b[0m\u001b[1;33m\u001b[0m\u001b[0m\n\u001b[0;32m      5\u001b[0m \u001b[0mprint\u001b[0m\u001b[1;33m(\u001b[0m\u001b[1;34m\"Translated Protein is\"\u001b[0m\u001b[1;33m,\u001b[0m \u001b[0ms5\u001b[0m\u001b[1;33m.\u001b[0m\u001b[0mtrans\u001b[0m\u001b[1;33m(\u001b[0m\u001b[1;33m)\u001b[0m\u001b[1;33m)\u001b[0m\u001b[1;33m\u001b[0m\u001b[1;33m\u001b[0m\u001b[0m\n",
      "\u001b[1;32m~\\AppData\\Local\\Temp/ipykernel_1908/1342363350.py\u001b[0m in \u001b[0;36m__init__\u001b[1;34m(self, seq)\u001b[0m\n\u001b[0;32m      4\u001b[0m             \u001b[0msuper\u001b[0m\u001b[1;33m(\u001b[0m\u001b[1;33m)\u001b[0m\u001b[1;33m.\u001b[0m\u001b[0m__init__\u001b[0m\u001b[1;33m(\u001b[0m\u001b[0mseq\u001b[0m\u001b[1;33m)\u001b[0m\u001b[1;33m\u001b[0m\u001b[1;33m\u001b[0m\u001b[0m\n\u001b[0;32m      5\u001b[0m         \u001b[1;32melse\u001b[0m\u001b[1;33m:\u001b[0m\u001b[1;33m\u001b[0m\u001b[1;33m\u001b[0m\u001b[0m\n\u001b[1;32m----> 6\u001b[1;33m             \u001b[1;32mraise\u001b[0m \u001b[0mValueError\u001b[0m\u001b[1;33m(\u001b[0m\u001b[1;34m\"Not a valid DNASequence\"\u001b[0m\u001b[1;33m)\u001b[0m\u001b[1;33m\u001b[0m\u001b[1;33m\u001b[0m\u001b[0m\n\u001b[0m\u001b[0;32m      7\u001b[0m     \u001b[1;32mdef\u001b[0m \u001b[0m__str__\u001b[0m\u001b[1;33m(\u001b[0m\u001b[0mself\u001b[0m\u001b[1;33m)\u001b[0m\u001b[1;33m:\u001b[0m\u001b[1;33m\u001b[0m\u001b[1;33m\u001b[0m\u001b[0m\n\u001b[0;32m      8\u001b[0m         \u001b[1;32mreturn\u001b[0m \u001b[0mself\u001b[0m\u001b[1;33m.\u001b[0m\u001b[0mseq\u001b[0m\u001b[1;33m\u001b[0m\u001b[1;33m\u001b[0m\u001b[0m\n",
      "\u001b[1;31mValueError\u001b[0m: Not a valid DNASequence"
     ]
    }
   ],
   "source": [
    "s5 = DNASequence(Sequence(\"ATGCGATCGATCGAGAGCTAGM\"))\n",
    "print(\"Test for __str__: \", s4.__str__())\n",
    "print(\"Test for __repr__: \", s4.__repr__())\n",
    "print(\"GCcount is\", s4.GCcount())\n",
    "print(\"Translated Protein is\", s5.trans())"
   ]
  },
  {
   "cell_type": "code",
   "execution_count": 10,
   "id": "3df62f1a",
   "metadata": {},
   "outputs": [
    {
     "name": "stdout",
     "output_type": "stream",
     "text": [
      "Test for __str__:  TCGTCAGCTGACTGATATAGCCTGACCTAGTCGATCGATCG\n",
      "Test for __repr__:  The DNA sequence is TCGTCAGCTGACTGATATAGCCTGACCTAGTCGATCGATCG\n",
      "TCGTCAGCTGACTGATATAGCCTGACCTAGTCGATCGATCG\n",
      "GCcount is 21\n",
      "Translated Protein is MRSIES*\n"
     ]
    }
   ],
   "source": [
    "s4 = s1 + s2\n",
    "s4 = DNASequence(s4)\n",
    "s5 = DNASequence(Sequence(\"ATGCGATCGATCGAGAGCTAG\"))\n",
    "print(\"Test for __str__: \", s4.__str__())\n",
    "print(\"Test for __repr__: \", s4.__repr__())\n",
    "print(\"GCcount is\", s4.GCcount())\n",
    "print(\"Translated Protein is\", s5.trans())"
   ]
  },
  {
   "cell_type": "code",
   "execution_count": 11,
   "id": "73cc61b2",
   "metadata": {},
   "outputs": [
    {
     "name": "stdout",
     "output_type": "stream",
     "text": [
      "Test for __str__:  MRSIES*\n",
      "Test for __repr__:  The protein sequence is MRSIES*\n",
      "A possible DNA sequence is ATGAGATCCATTGAATCGTGA\n",
      "Another possible DNA sequence is ATGAGGTCAATAGAATCCTAA\n"
     ]
    }
   ],
   "source": [
    "s6 = ProteinSequence(s5.trans())\n",
    "print(\"Test for __str__: \", s6.__str__())\n",
    "print(\"Test for __repr__: \", s6.__repr__())\n",
    "print(\"A possible DNA sequence is\",s6.revtrans())\n",
    "print(\"Another possible DNA sequence is\",s6.revtrans())"
   ]
  },
  {
   "cell_type": "code",
   "execution_count": 12,
   "id": "dbacfd27",
   "metadata": {},
   "outputs": [
    {
     "name": "stdout",
     "output_type": "stream",
     "text": [
      "Test for __str__:  MRSIES*\n",
      "Test for __repr__:  The protein sequence is MRSIES*\n",
      "A possible DNA sequence is ATGAGGTCTATAGAATCGTAG\n",
      "Another possible DNA sequence is ATGAGGTCCATTGAATCTTAA\n"
     ]
    }
   ],
   "source": [
    "s6 = ProteinSequence(Sequence(\"MRSIES*\"))\n",
    "print(\"Test for __str__: \", s6.__str__())\n",
    "print(\"Test for __repr__: \", s6.__repr__())\n",
    "print(\"A possible DNA sequence is\",s6.revtrans())\n",
    "print(\"Another possible DNA sequence is\",s6.revtrans())"
   ]
  },
  {
   "cell_type": "markdown",
   "id": "bf565dba",
   "metadata": {},
   "source": [
    "# Wrong protein start (not M)"
   ]
  },
  {
   "cell_type": "code",
   "execution_count": 13,
   "id": "e23585ba",
   "metadata": {},
   "outputs": [
    {
     "ename": "ValueError",
     "evalue": "Not a valid ProteinSequence",
     "output_type": "error",
     "traceback": [
      "\u001b[1;31m---------------------------------------------------------------------------\u001b[0m",
      "\u001b[1;31mValueError\u001b[0m                                Traceback (most recent call last)",
      "\u001b[1;32m~\\AppData\\Local\\Temp/ipykernel_1908/3379908459.py\u001b[0m in \u001b[0;36m<module>\u001b[1;34m\u001b[0m\n\u001b[1;32m----> 1\u001b[1;33m \u001b[0ms6\u001b[0m \u001b[1;33m=\u001b[0m \u001b[0mProteinSequence\u001b[0m\u001b[1;33m(\u001b[0m\u001b[0mSequence\u001b[0m\u001b[1;33m(\u001b[0m\u001b[1;34m\"AMRSIES*\"\u001b[0m\u001b[1;33m)\u001b[0m\u001b[1;33m)\u001b[0m\u001b[1;33m\u001b[0m\u001b[1;33m\u001b[0m\u001b[0m\n\u001b[0m\u001b[0;32m      2\u001b[0m \u001b[0mprint\u001b[0m\u001b[1;33m(\u001b[0m\u001b[1;34m\"Test for __str__: \"\u001b[0m\u001b[1;33m,\u001b[0m \u001b[0ms6\u001b[0m\u001b[1;33m.\u001b[0m\u001b[0m__str__\u001b[0m\u001b[1;33m(\u001b[0m\u001b[1;33m)\u001b[0m\u001b[1;33m)\u001b[0m\u001b[1;33m\u001b[0m\u001b[1;33m\u001b[0m\u001b[0m\n\u001b[0;32m      3\u001b[0m \u001b[0mprint\u001b[0m\u001b[1;33m(\u001b[0m\u001b[1;34m\"Test for __repr__: \"\u001b[0m\u001b[1;33m,\u001b[0m \u001b[0ms6\u001b[0m\u001b[1;33m.\u001b[0m\u001b[0m__repr__\u001b[0m\u001b[1;33m(\u001b[0m\u001b[1;33m)\u001b[0m\u001b[1;33m)\u001b[0m\u001b[1;33m\u001b[0m\u001b[1;33m\u001b[0m\u001b[0m\n\u001b[0;32m      4\u001b[0m \u001b[0mprint\u001b[0m\u001b[1;33m(\u001b[0m\u001b[1;34m\"A possible DNA sequence is\"\u001b[0m\u001b[1;33m,\u001b[0m\u001b[0ms6\u001b[0m\u001b[1;33m.\u001b[0m\u001b[0mrevtrans\u001b[0m\u001b[1;33m(\u001b[0m\u001b[1;33m)\u001b[0m\u001b[1;33m)\u001b[0m\u001b[1;33m\u001b[0m\u001b[1;33m\u001b[0m\u001b[0m\n\u001b[0;32m      5\u001b[0m \u001b[0mprint\u001b[0m\u001b[1;33m(\u001b[0m\u001b[1;34m\"Another possible DNA sequence is\"\u001b[0m\u001b[1;33m,\u001b[0m\u001b[0ms6\u001b[0m\u001b[1;33m.\u001b[0m\u001b[0mrevtrans\u001b[0m\u001b[1;33m(\u001b[0m\u001b[1;33m)\u001b[0m\u001b[1;33m)\u001b[0m\u001b[1;33m\u001b[0m\u001b[1;33m\u001b[0m\u001b[0m\n",
      "\u001b[1;32m~\\AppData\\Local\\Temp/ipykernel_1908/3833739133.py\u001b[0m in \u001b[0;36m__init__\u001b[1;34m(self, seq)\u001b[0m\n\u001b[0;32m      5\u001b[0m             \u001b[0msuper\u001b[0m\u001b[1;33m(\u001b[0m\u001b[1;33m)\u001b[0m\u001b[1;33m.\u001b[0m\u001b[0m__init__\u001b[0m\u001b[1;33m(\u001b[0m\u001b[0mseq\u001b[0m\u001b[1;33m)\u001b[0m\u001b[1;33m\u001b[0m\u001b[1;33m\u001b[0m\u001b[0m\n\u001b[0;32m      6\u001b[0m         \u001b[1;32melse\u001b[0m\u001b[1;33m:\u001b[0m\u001b[1;33m\u001b[0m\u001b[1;33m\u001b[0m\u001b[0m\n\u001b[1;32m----> 7\u001b[1;33m             \u001b[1;32mraise\u001b[0m \u001b[0mValueError\u001b[0m\u001b[1;33m(\u001b[0m\u001b[1;34m\"Not a valid ProteinSequence\"\u001b[0m\u001b[1;33m)\u001b[0m\u001b[1;33m\u001b[0m\u001b[1;33m\u001b[0m\u001b[0m\n\u001b[0m\u001b[0;32m      8\u001b[0m     \u001b[1;32mdef\u001b[0m \u001b[0m__str__\u001b[0m\u001b[1;33m(\u001b[0m\u001b[0mself\u001b[0m\u001b[1;33m)\u001b[0m\u001b[1;33m:\u001b[0m\u001b[1;33m\u001b[0m\u001b[1;33m\u001b[0m\u001b[0m\n\u001b[0;32m      9\u001b[0m         \u001b[1;32mreturn\u001b[0m \u001b[0mself\u001b[0m\u001b[1;33m.\u001b[0m\u001b[0mseq\u001b[0m\u001b[1;33m\u001b[0m\u001b[1;33m\u001b[0m\u001b[0m\n",
      "\u001b[1;31mValueError\u001b[0m: Not a valid ProteinSequence"
     ]
    }
   ],
   "source": [
    "s6 = ProteinSequence(Sequence(\"AMRSIES*\"))\n",
    "print(\"Test for __str__: \", s6.__str__())\n",
    "print(\"Test for __repr__: \", s6.__repr__())\n",
    "print(\"A possible DNA sequence is\",s6.revtrans())\n",
    "print(\"Another possible DNA sequence is\",s6.revtrans())"
   ]
  },
  {
   "cell_type": "markdown",
   "id": "334786f8",
   "metadata": {},
   "source": [
    "# Wrong protein end (Not *)"
   ]
  },
  {
   "cell_type": "code",
   "execution_count": 14,
   "id": "aec6d63e",
   "metadata": {},
   "outputs": [
    {
     "ename": "ValueError",
     "evalue": "Not a valid ProteinSequence",
     "output_type": "error",
     "traceback": [
      "\u001b[1;31m---------------------------------------------------------------------------\u001b[0m",
      "\u001b[1;31mValueError\u001b[0m                                Traceback (most recent call last)",
      "\u001b[1;32m~\\AppData\\Local\\Temp/ipykernel_1908/566508768.py\u001b[0m in \u001b[0;36m<module>\u001b[1;34m\u001b[0m\n\u001b[1;32m----> 1\u001b[1;33m \u001b[0ms6\u001b[0m \u001b[1;33m=\u001b[0m \u001b[0mProteinSequence\u001b[0m\u001b[1;33m(\u001b[0m\u001b[0mSequence\u001b[0m\u001b[1;33m(\u001b[0m\u001b[1;34m\"MRSIES*G\"\u001b[0m\u001b[1;33m)\u001b[0m\u001b[1;33m)\u001b[0m\u001b[1;33m\u001b[0m\u001b[1;33m\u001b[0m\u001b[0m\n\u001b[0m\u001b[0;32m      2\u001b[0m \u001b[0mprint\u001b[0m\u001b[1;33m(\u001b[0m\u001b[1;34m\"Test for __str__: \"\u001b[0m\u001b[1;33m,\u001b[0m \u001b[0ms6\u001b[0m\u001b[1;33m.\u001b[0m\u001b[0m__str__\u001b[0m\u001b[1;33m(\u001b[0m\u001b[1;33m)\u001b[0m\u001b[1;33m)\u001b[0m\u001b[1;33m\u001b[0m\u001b[1;33m\u001b[0m\u001b[0m\n\u001b[0;32m      3\u001b[0m \u001b[0mprint\u001b[0m\u001b[1;33m(\u001b[0m\u001b[1;34m\"Test for __repr__: \"\u001b[0m\u001b[1;33m,\u001b[0m \u001b[0ms6\u001b[0m\u001b[1;33m.\u001b[0m\u001b[0m__repr__\u001b[0m\u001b[1;33m(\u001b[0m\u001b[1;33m)\u001b[0m\u001b[1;33m)\u001b[0m\u001b[1;33m\u001b[0m\u001b[1;33m\u001b[0m\u001b[0m\n\u001b[0;32m      4\u001b[0m \u001b[0mprint\u001b[0m\u001b[1;33m(\u001b[0m\u001b[1;34m\"A possible DNA sequence is\"\u001b[0m\u001b[1;33m,\u001b[0m\u001b[0ms6\u001b[0m\u001b[1;33m.\u001b[0m\u001b[0mrevtrans\u001b[0m\u001b[1;33m(\u001b[0m\u001b[1;33m)\u001b[0m\u001b[1;33m)\u001b[0m\u001b[1;33m\u001b[0m\u001b[1;33m\u001b[0m\u001b[0m\n\u001b[0;32m      5\u001b[0m \u001b[0mprint\u001b[0m\u001b[1;33m(\u001b[0m\u001b[1;34m\"Another possible DNA sequence is\"\u001b[0m\u001b[1;33m,\u001b[0m\u001b[0ms6\u001b[0m\u001b[1;33m.\u001b[0m\u001b[0mrevtrans\u001b[0m\u001b[1;33m(\u001b[0m\u001b[1;33m)\u001b[0m\u001b[1;33m)\u001b[0m\u001b[1;33m\u001b[0m\u001b[1;33m\u001b[0m\u001b[0m\n",
      "\u001b[1;32m~\\AppData\\Local\\Temp/ipykernel_1908/3833739133.py\u001b[0m in \u001b[0;36m__init__\u001b[1;34m(self, seq)\u001b[0m\n\u001b[0;32m      5\u001b[0m             \u001b[0msuper\u001b[0m\u001b[1;33m(\u001b[0m\u001b[1;33m)\u001b[0m\u001b[1;33m.\u001b[0m\u001b[0m__init__\u001b[0m\u001b[1;33m(\u001b[0m\u001b[0mseq\u001b[0m\u001b[1;33m)\u001b[0m\u001b[1;33m\u001b[0m\u001b[1;33m\u001b[0m\u001b[0m\n\u001b[0;32m      6\u001b[0m         \u001b[1;32melse\u001b[0m\u001b[1;33m:\u001b[0m\u001b[1;33m\u001b[0m\u001b[1;33m\u001b[0m\u001b[0m\n\u001b[1;32m----> 7\u001b[1;33m             \u001b[1;32mraise\u001b[0m \u001b[0mValueError\u001b[0m\u001b[1;33m(\u001b[0m\u001b[1;34m\"Not a valid ProteinSequence\"\u001b[0m\u001b[1;33m)\u001b[0m\u001b[1;33m\u001b[0m\u001b[1;33m\u001b[0m\u001b[0m\n\u001b[0m\u001b[0;32m      8\u001b[0m     \u001b[1;32mdef\u001b[0m \u001b[0m__str__\u001b[0m\u001b[1;33m(\u001b[0m\u001b[0mself\u001b[0m\u001b[1;33m)\u001b[0m\u001b[1;33m:\u001b[0m\u001b[1;33m\u001b[0m\u001b[1;33m\u001b[0m\u001b[0m\n\u001b[0;32m      9\u001b[0m         \u001b[1;32mreturn\u001b[0m \u001b[0mself\u001b[0m\u001b[1;33m.\u001b[0m\u001b[0mseq\u001b[0m\u001b[1;33m\u001b[0m\u001b[1;33m\u001b[0m\u001b[0m\n",
      "\u001b[1;31mValueError\u001b[0m: Not a valid ProteinSequence"
     ]
    }
   ],
   "source": [
    "s6 = ProteinSequence(Sequence(\"MRSIES*G\"))\n",
    "print(\"Test for __str__: \", s6.__str__())\n",
    "print(\"Test for __repr__: \", s6.__repr__())\n",
    "print(\"A possible DNA sequence is\",s6.revtrans())\n",
    "print(\"Another possible DNA sequence is\",s6.revtrans())"
   ]
  },
  {
   "cell_type": "code",
   "execution_count": 15,
   "id": "64cf389b",
   "metadata": {
    "scrolled": true
   },
   "outputs": [
    {
     "name": "stdout",
     "output_type": "stream",
     "text": [
      "Test for __str__:  MD10G1276500\n",
      "Test for __repr__:  The header is MD10G1276500 with sequence: TCGTCAGCTGACTGATATAGCCTGACCTAGTCGATCGATCG\n"
     ]
    }
   ],
   "source": [
    "# Use this cell to test your SequenceRecord class\n",
    "header1 = \"MD10G1276500\"\n",
    "rec = SequenceRecord(header1,s4.__str__())\n",
    "print(\"Test for __str__: \", rec.__str__())\n",
    "print(\"Test for __repr__: \", rec.__repr__())"
   ]
  },
  {
   "cell_type": "code",
   "execution_count": null,
   "id": "6ec0bc4a",
   "metadata": {},
   "outputs": [],
   "source": []
  }
 ],
 "metadata": {
  "kernelspec": {
   "display_name": "Python 3 (ipykernel)",
   "language": "python",
   "name": "python3"
  },
  "language_info": {
   "codemirror_mode": {
    "name": "ipython",
    "version": 3
   },
   "file_extension": ".py",
   "mimetype": "text/x-python",
   "name": "python",
   "nbconvert_exporter": "python",
   "pygments_lexer": "ipython3",
   "version": "3.9.7"
  }
 },
 "nbformat": 4,
 "nbformat_minor": 5
}
