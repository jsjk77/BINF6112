{
 "cells": [
  {
   "cell_type": "markdown",
   "metadata": {},
   "source": [
    "Name: Jonathan Kim\n",
    "\n",
    "Email: jkim185@uncc.edu\n",
    "\n",
    "\n",
    "## Part 1 - Sequence Class\n",
    "\n",
    "Write a Sequence class. In the __init__ method, you should initialized one attribute, a String that represents a DNA Sequence.\n",
    "\n",
    "This class should also have the following magic methods we discussed in class yesterday:\n",
    "\n",
    "- __repr__ and __str__\n",
    "- __eq__ and __lt__ (then use the decorator I demonstrated)\n",
    "\n",
    "It is up to you to decide how these should be implemented. For instance, what criteria do you think makes the most sense for saying two sequences are equal to one another? What criteria for one sequence to be considered \"less than\" another?"
   ]
  },
  {
   "cell_type": "code",
   "execution_count": 1,
   "metadata": {},
   "outputs": [],
   "source": [
    "#sequence class goes here\n",
    "from functools import total_ordering\n",
    "\n",
    "@total_ordering\n",
    "class Sequence:\n",
    "    def __init__(self, seq):\n",
    "        self.seq = seq\n",
    "    # Informal Report\n",
    "    def __str__(self):\n",
    "        return self.seq\n",
    "    # Formal Representation\n",
    "    def __repr__(self):\n",
    "        return f'The DNA Sequence is {self.seq}.'\n",
    "    # If both strings are EXACTLY the same\n",
    "    def __eq__(self,other):\n",
    "        return self.seq == other.seq\n",
    "    # Comparing lengths of two sequences\n",
    "    def __lt__(self,other):\n",
    "        return len(self.seq) < len(other.seq)"
   ]
  },
  {
   "cell_type": "markdown",
   "metadata": {},
   "source": [
    "### Testing of Sequences w/ Sanity Checks"
   ]
  },
  {
   "cell_type": "code",
   "execution_count": 2,
   "metadata": {},
   "outputs": [
    {
     "name": "stdout",
     "output_type": "stream",
     "text": [
      "Test for __str__:  TCGTCAGCTGACTGATATAGC\n",
      "Test for __repr__:  The DNA Sequence is TCGTCAGCTGACTGATATAGC.\n",
      "Sanity Check: s1 == s2 is  False and __eq__ gives  False\n",
      "Sanity Check: s1 == s3 is  True and __eq__ gives  True\n",
      "Sanity Check: s1 < s3 is  False and __lt__ gives  False\n",
      "Sanity Check: s2 < s3 is  True and __lt__ gives  True\n"
     ]
    }
   ],
   "source": [
    "#Use this cell for testing your Sequence class. Show us what tests you ran to confirm your methods worked correctly\n",
    "s1 = Sequence(\"TCGTCAGCTGACTGATATAGC\")\n",
    "s2 = Sequence(\"CTGACCTAGTCGATCGATCG\")\n",
    "s3 = Sequence(\"TCGTCAGCTGACTGATATAGC\")\n",
    "print(\"Test for __str__: \", s1.__str__())\n",
    "print(\"Test for __repr__: \", s1.__repr__())\n",
    "print(\"Sanity Check: s1 == s2 is \", s1 == s2, \"and __eq__ gives \", s1.__eq__(s2))\n",
    "print(\"Sanity Check: s1 == s3 is \", s1 == s3, \"and __eq__ gives \", s1.__eq__(s3))\n",
    "print(\"Sanity Check: s1 < s3 is \", s1 < s3, \"and __lt__ gives \", s1.__lt__(s3))\n",
    "print(\"Sanity Check: s2 < s3 is \", s2 < s3, \"and __lt__ gives \", s2.__lt__(s3))"
   ]
  },
  {
   "cell_type": "markdown",
   "metadata": {},
   "source": [
    "## Part 2 - SequenceRecord Class\n",
    "\n",
    "Write a class called Sequence Record. This class should have two attributes:\n",
    "\n",
    "- A label/title (something that describe the source of the sequence, like the contents of a header line in a FASTA file)\n",
    "- and a Sequence object \n",
    "\n",
    "Your initializer should attempt to confirm that the second attribute is, in fact, a Sequence object. Consider the following code and how it could be applied here\n",
    "\n",
    "```\n",
    ">>> s = \"hello\"\n",
    ">>> type(s) == str\n",
    "True \n",
    "```\n",
    "\n",
    "You should also, at minimum, add a __str__ and __repr__ method."
   ]
  },
  {
   "cell_type": "code",
   "execution_count": 3,
   "metadata": {},
   "outputs": [
    {
     "name": "stdout",
     "output_type": "stream",
     "text": [
      "test1 True\n",
      "test2 False\n"
     ]
    }
   ],
   "source": [
    "s = 'hello'\n",
    "print(\"test1\",isinstance(s1,Sequence))\n",
    "print(\"test2\",isinstance(s1,str))"
   ]
  },
  {
   "cell_type": "code",
   "execution_count": 4,
   "metadata": {},
   "outputs": [],
   "source": [
    "# SequenceRecord class goes here\n",
    "class SequenceRecord:\n",
    "    def __init__(self,label,seq):\n",
    "        self.label = label\n",
    "        self.seq = self.seqCheck(seq)\n",
    "    def seqCheck(self, var):\n",
    "        temp = \"Not a Sequence, input a valid Sequence\"\n",
    "        if (isinstance(var,Sequence)):\n",
    "            temp = var\n",
    "        return temp\n",
    "    def __str__(self):\n",
    "        return self.label\n",
    "    def __repr__(self):\n",
    "        return f\"The header is {self.label} with sequence: {self.seq}\""
   ]
  },
  {
   "cell_type": "markdown",
   "metadata": {},
   "source": [
    "### Sanity Check Testing"
   ]
  },
  {
   "cell_type": "code",
   "execution_count": 5,
   "metadata": {},
   "outputs": [
    {
     "name": "stdout",
     "output_type": "stream",
     "text": [
      "Test for __str__:  MD10G1276500\n",
      "Test for __repr__:  The header is MD10G1276500 with sequence: TCGTCAGCTGACTGATATAGC\n"
     ]
    }
   ],
   "source": [
    "# Use this cell to test your SequenceRecord class\n",
    "header1 = \"MD10G1276500\"\n",
    "header2 = \"MD10G1110200\"\n",
    "header3 = \"MD10G1036500\"\n",
    "rec = SequenceRecord(header1,s1)\n",
    "print(\"Test for __str__: \", rec.__str__())\n",
    "print(\"Test for __repr__: \", rec.__repr__())"
   ]
  },
  {
   "cell_type": "code",
   "execution_count": 6,
   "metadata": {},
   "outputs": [
    {
     "data": {
      "text/plain": [
       "The header is MD10G1110200 with sequence: Not a Sequence, input a valid Sequence"
      ]
     },
     "execution_count": 6,
     "metadata": {},
     "output_type": "execute_result"
    }
   ],
   "source": [
    "fakes = \"ATGCTAGCTGATGTCAG\"\n",
    "# fakeSeq # works\n",
    "fakerec = SequenceRecord(header2,fakes)\n",
    "fakerec # Does not work"
   ]
  },
  {
   "cell_type": "markdown",
   "metadata": {},
   "source": [
    "## Part 3 - Parsing using your new classes\n",
    "\n",
    "Build yourself a test FASTA file with approx 3 simple records. Read in this file, and use it contents to create a SequenceRecords for each record in the file. \n",
    "\n",
    "- Please note this process is identical to what we did previously with FASTA parsing, only before we used a dictionary where the key stored the header info, and the value stored the sequence info. Now, our SequenceRecord object holds BOTH pieces.\n",
    "\n",
    "Be sure to confirm your SequenceRecord objects hold the correct information.\n",
    "\n",
    "For extra credit, write your parser as a generator."
   ]
  },
  {
   "cell_type": "code",
   "execution_count": 7,
   "metadata": {},
   "outputs": [],
   "source": [
    "# Write your parser and testing code here\n",
    "class Parser:\n",
    "    def __init__(self, file):\n",
    "        self.file = self.toRecord(self.loadFa(file)[0],self.loadFa(file)[1])\n",
    "    def loadFa(self, filename):\n",
    "        fp = open(filename, 'r')\n",
    "        data = fp.read().split('>')\n",
    "        fp.close()\n",
    "        data.pop(0)     \n",
    "        headers = []\n",
    "        sequences = []\n",
    "        for sequence in data:\n",
    "            lines = sequence.split('\\n')\n",
    "            headers.append(lines.pop(0))\n",
    "            sequences.append(''.join(lines))\n",
    "        return (headers, sequences)\n",
    "    \n",
    "    # Uses the created Sequence and SequenceRecord classes for a file\n",
    "    def toRecord(self,heads,seqs):\n",
    "        templist = []\n",
    "        for i in range(len(heads)):\n",
    "            templist.append(SequenceRecord(heads[i],Sequence(seqs[i])))\n",
    "        return templist\n",
    "    \n",
    "    def __str__(self):\n",
    "        return self.file\n",
    "    def __repr__(self):\n",
    "        final = []\n",
    "        return f'The genes in the file are {self.file}'"
   ]
  },
  {
   "cell_type": "markdown",
   "metadata": {},
   "source": [
    "### Personal Logic Testing"
   ]
  },
  {
   "cell_type": "code",
   "execution_count": 8,
   "metadata": {},
   "outputs": [
    {
     "data": {
      "text/plain": [
       "3"
      ]
     },
     "execution_count": 8,
     "metadata": {},
     "output_type": "execute_result"
    }
   ],
   "source": [
    "# Sanity Checking\n",
    "def loadFasta(filename):\n",
    "    fp = open(filename, 'r')\n",
    "    # split at headers\n",
    "    data = fp.read().split('>')\n",
    "    fp.close()\n",
    "    # ignore whatever appears before the 1st header\n",
    "    data.pop(0)     \n",
    "    headers = []\n",
    "    sequences = []\n",
    "    for sequence in data:\n",
    "        lines = sequence.split('\\n')\n",
    "        headers.append(lines.pop(0))\n",
    "        sequences.append(''.join(lines))\n",
    "    return (headers, sequences)\n",
    "head, seq = loadFasta(\"./three.fa\")\n",
    "len(seq)"
   ]
  },
  {
   "cell_type": "markdown",
   "metadata": {},
   "source": [
    "### Final Parser Output"
   ]
  },
  {
   "cell_type": "code",
   "execution_count": 9,
   "metadata": {},
   "outputs": [
    {
     "name": "stdout",
     "output_type": "stream",
     "text": [
      "p.__str__()[0] gives the first header:  MD10G1276500 pacid=40089867 polypeptide=MD10G1276500 locus=MD10G1276500 ID=MD10G1276500.v1.1.491 annot-version=v1.1\n",
      "p.__repr__() gives the entire file with associated sequence file:  The genes in the file are [The header is MD10G1276500 pacid=40089867 polypeptide=MD10G1276500 locus=MD10G1276500 ID=MD10G1276500.v1.1.491 annot-version=v1.1 with sequence: CAGTCCGTGGCTCCTGTGTGCAATGTCTGCGGCGAGCAGGTGGGGCTTGGTGCCAATGGGGAGGTTTTCGTGGCATGCCACGAGTGTAATTTCCCCATTTGCAAGGCTTGTTTCGATGAAGATGTCAAGGCTGGGCGTAAAGTTTGCTTGCAGTGTGGTATTCCCTATGACGATAACCCGTTGGCGGAGTATGAAACAAAGGTGTCAGGCACTCGATCCACAATGGAAGCTCACCTGAATAATACACAGGATACAGGAATTCATGCTAGGCATATCAGCAGTGTGTCTACGTTGGATAGTGAATTAAACGATGAATCTGGCAATCCGATTTGGAAGAATAGAGTGGAAAGTTGGAAGGATAAGAAGGATAAGAAGGATAAAAAGATCAAGAAGAAAAAGGATACACCTAATGGGGAAAAAGAGGCTCAAATTCCACCTGAGAAGCAGATGACAGAGGAATATTCATCAGAGGCTGCGGAACCACTTTCAACTCTCGTCCCACTTCCATCTAACAGAATCACACCATACAGAACTGTTATAATTATGCGATTGATCATTCTCGCCCTTTTCTTCCATTATCGAGTAACAAATCCTGTTGATAGTGCTTACGGTCTATGGTTCACTTCGATCATATGTGAGATCTGGTTTGCTTTTTCTTGGGTGTTGGATCAGTTTCCTAAGTGGTCTCCAGTTAATCGGACTACATTTACTGACAGGTTATCTGCCAGGTTTGAAAGAGAGGGTGAACTCTCCGAGCTTGCTGCTGTGGATTTCTTCGTAAGTACAGTTGATCCGTTGAAAGAACCGCCCTTGATTACTGCCAATACCGTGCTTTCTATCCTTGCTGTAGACTACCCTGTGGACAAAGTTTCCTGCTATGTGTCTGATGATGGTGCTGCCATGCTTACATTTGAATCCCTTGCCGAAACATCTGAATTTGCAACAAAGTGGGTTCCTTTCTGCAAGAAATTTTCAATTGAACCACGTGCACCTGAGTTTTACTTCTCACAAAAGATTGACTACTTGAAGGATAAAGTGCAACCATCTTTTGTGAAGGAGCGCAGAGCGATGAAAAGAGATTATGAAGAGTTCAAAGTGCGAATGAATGCTTTAGTAGCAAAGGCTCAAAAAACACCAGAAGAAGGATGGACTATGCAAGATGGAACTCCATGGCCAGGAAATAACTCGCGTGACCATCCTGGGATGATCCAGGTGTTCCTTGGACATAGCGGTGCCTATGACATCGAGGGAAATGAACTTCCTCGATTGGTTTATGTCTCGAGAGAGAAGAGACCCGGCTACCCACATCACAAGAAAGCTGGTGCTGAAAATGCTTTGGTAAGGGTGTCTGCAGTTCTCACAAATGCCCCATACATCCTCAATCTTGACTGTGATCACTACGTTAACAACAGCCAGGCAATTCGTGAGGCAATGTGTTTCTTGATGGACCCTCAAGTCGGTCGAGAAGTATGCTATGTGCAGTTTCCTCAGAGGTTTGATGGTATTGATCGCAGTGATCGATATGCTAATCGCAACACAGTTTTCTTTGATGTTAACATGAAAGGACTGGATGGCATTCAAGGTCCAGTATATGTGGGGACAGGATGTTGTTTCAACAGGCAAGCACTTTACGGCTACGGTCCTCCTTCTATGCCCGCCTTATCCAAGGCTGCTTCCTCATCCTCCTGCTCTTGTTGCTGTCCCTCTAAGAAGCCCTCTAAAGATGTGTCAGAGGCTTATCGAGATGCAAAACAGGAGGAGCTTGATGCTGCCATTTTTAACCTCCGTGATATTGAGAATTATGATGAGCTTGAGAGGTCAATGCTGATCTCGCAGACAAGCTTTGAGAAAACTTTTGGATTATCGTCTGTATTCATCGAATCTACGCTAATGGAGAACGGAGGAGTGGCCGAATCTTCCAACCCTTCAACATTGATCAAGGAGGCGATTCACGTCATTAGCTGTGGTTATGAAGAGAAGACCGCGTGGGGAAAAGAGATTGGTTGGATATATGGATCAATCACTGAGGATATCTTAACCGGTTTCAAGATGCATTGCCGTGGATGGAGGTCAATTTACTGCATGCCCTTGAGACCTGCATTCAAAGGGTCAGCTCCCATTAACCTTTCTGATCGACTGCACCAAGTTCTTCGGTGGGCACTGGGATCGGTGGAAATTTTCCTCAGTAGACATTGTCCTCTCTGGTACGGGTTTGCAGGAGGCCGCCTCAAATTGCTTCAGAGAATGGCATATATCAACACTATTGTTTACCCCTTCACATCCCTCCCTCTCGTCGCTTACTGCACACTCCCTGCAATATGCCTTCTCACAGGAAAATTCATCATCCCAACACTTACAAACCTGGCAAGTGCCCTGTTTCTTGGCCTCTTCATCTCCATCATTGCTACAAGTGTGCTTGAGTTGAGGTGGAGTGGAGTCCGCATTGAGGACTTATGGCGTAACGAGCAGTTCTGGGTGATCGGAGGTGTTTCAGCCCATCTCTTTGCCGTCTTCCAAGGTTTCTTAAAGATGTTGGCCGGAATTGACACCAACTTCACCGTCACAACCAAATCAGCCGAAGACACAGAATTCGGAGAGCTCTATCTGATCAAATGGACCACACTTTTGATTCCCCCAACTACACTCCTCATCGTCAACATGGTTGGTGTTGTTGCAGGATTTTCGGACGCCCTCAACAAGGGATACGAAGCTTGGGGGCCACTTTTCGGGAAGGTTTTCTTTGCCTTCTGGGTGATTCTTCATCTATATCCCTTCCTCAAAGGTCTCATGGGACGCCAAAACCGGACTCCAACCATCGTTGTTTTGTGGTCAGTGCTCTTGGCCTCTGTCTTCTCCCTTGTTTGGGTGAAGATAAATCCATTTGTGAGCAAAGTGGACAGCTCAACGCTTGCTCAAAGCTGCATTTCCATAGACTGCTGA, The header is MD10G1110200 pacid=40089868 polypeptide=MD10G1110200 locus=MD10G1110200 ID=MD10G1110200.v1.1.491 annot-version=v1.1 with sequence: ATGGCGTCTCTCTCCATCGCTTCACATTACTCCATTTCCTCATGGCCTCCCAAGAATAGCAACACCAGTACCACCCTCTCATCTTTCAACAAAACCCCATTTCGTAAAAACACCCAAAATCTCACCTTTTCGAAAAAACGCCATCATTTTCTCACGTTTTCCATGAAAAATGACCAGGAAAACGAACCCACTTCTTCTTCGTCGCCGTCGTCGGCTGTTGCAGTTTCCGAGAAGCCGAGCGACGGCAGTGAGACCCAGGAGAGTGAATTGCCAGCAGAAGGAGCTGACTCTGAGTCTGATGAGGAGAAAGAGAAGCAGCTGGAGACGGATTGGAAGACGGACGAGGAGTTCAAGAAGTTCATGGGAAATCCTTCGATTGAAGCTGCAATAAAGTTGGAGAAGAAAAGGGCAGATAGGAAACTCAAGGATCTTGATAGGGAAAGTAGTGGGAACCCATTTGCAGGGATCCTGAACAAAGTTTTGCGTGACAGTTTGACCAGAGAGAAGGAGAGGCTGGAGAAAGCTGAAGAGACGTTCAAGGCAATTGATCTTAACAAGTTAAGGAGTTGTTTTGGGTTTGATACATTTTTTCCAACTGATGTTCGGAGATTTGGAGATGGAGGCATTTTTGTTGGAAATTTGAGGAGACCAATTGAAGAGGTCATGCCCAAATTAGAGCAAAAGCTATCTGAAGCGGCAGGAAGAGAAGTTGTGTTATGGTTCATGGAAGAAAAAACTAATGACATCAGAAAACAGGTCTGTATGGTGCAACCCAAATTGGAAATTGATCTGCAGTTTGAGTCAACCAAGCTGAGCACTCCTTTGGGTTATGTGAGTGCAGTAGCCTTATGTGTCGCCACGTTTGGGACCGTAGCTCTAATAAGTGGCTTCTTCCTGAAACCTGATGCTACATGGGATGACTACCTTGCCAATGTTGTGCCCCTCTTTGGTGGCTTCCTATCTATTTTGGGAGTTTCTGAGATAGCGACTAGAGTGACAGCTGCTCGTCACGGTGTAAAACTCAGTCCATCTTTTCTTGTGCCATCCAATTGGACAGGCTGTTTAGGAGTGATGAATAACTATGAATCACTGCTTCCAAACAAGAAAGCGCTTTTTGACATTCCAGTGGCACGCACGGCTAGTGCATATCTCACATCACTGGTGCTTGCAATTGCTGCTTTTGTGGCTGATGGAAGCTTTAATGGGGGTGACAATGCATTGTATATAAGGCCGCAATTCTTCTTTAATAATCCCTTGCTTTCTTTTGTCCAATTTGTTATTGGTCCTTACGCGGATGACCTTGGAAATGTGCTGCCCTATGCAGTGGAAGGTGTTGGAGTTCCTGTTGATCCCCTTGCCTTTGCTGGACTTCTAGGGATGGTGGTGACTTCTCTGAACTTGTTGCCATGTGGGAGACTCGAAGGAGGCCGGATTGCACAAGCTATGTTTGGGAGAGGTACGGCTGCTCTGCTATCGTTTGCCACATCGCTTTTACTTGGGATTGGTGGCCTAAGTGGAAGTGTCCTTTGCCTGGCATGGGGATTATTTGCCACCTTCTTCCGGGGTGGAGAAGAAATGCCTGCGAAAGATGAAATCACCCCCATGGGAGACGATAGGTTTGCTTGGGGTTGTGTCCTCGGCCTTATCTGCTTCCTCACGCTTTTCCCTAACATCGGAGGGACGTTCTCCAGCTCATTTTTAAGTGCACCATTTTTCAGGGGTGATATGTAA, The header is MD10G1036500 pacid=40089869 polypeptide=MD10G1036500 locus=MD10G1036500 ID=MD10G1036500.v1.1.491 annot-version=v1.1 with sequence: ATGTCGTCGTCGTCGAAGATCACCCTGCAGAGCTCCGACGGCGAGTCGTTCGAGGTCGAGGAGGCGGTGGCGCTGGAATCACAGACCATTGGGCTCGTGATCGAGAACGACTGCGCCGACAACTGTATTCCTTTGCCCAACGTCACCAGCAAGATCTTGGCCATGGTCATCGAGTACTGCAAGAGGCACGTCGACGCCGCCAAGCTCGACGAGAAGATCTTCGAGGACGATCTCGAGTCCTGGGATCAGGCGTTCGTAAAGGTGGACCAGGCTACGCTGTTTGATCTCATTAACGCTGCAGCCTACTTGAACATCAAGAGCCTTTTGGACCTGACATGCCAGGCAGTTGCAGACATGATCAAGGGTAAGACTCCAGAAGAGATCAGAAAGACCTTCAACATCAAGGACGAGTTCACCCTGGAGGAAGAGGAGGAAGTTCGTCGTGAGAACCAGTGGGCGTTTGAATGA]\n"
     ]
    }
   ],
   "source": [
    "p = Parser(\"./three.fa\")\n",
    "print(\"p.__str__()[0] gives the first header: \",p.__str__()[0])\n",
    "print(\"p.__repr__() gives the entire file with associated sequence file: \",p.__repr__())"
   ]
  },
  {
   "cell_type": "code",
   "execution_count": null,
   "metadata": {},
   "outputs": [],
   "source": []
  }
 ],
 "metadata": {
  "kernelspec": {
   "display_name": "Python 3 (ipykernel)",
   "language": "python",
   "name": "python3"
  },
  "language_info": {
   "codemirror_mode": {
    "name": "ipython",
    "version": 3
   },
   "file_extension": ".py",
   "mimetype": "text/x-python",
   "name": "python",
   "nbconvert_exporter": "python",
   "pygments_lexer": "ipython3",
   "version": "3.9.7"
  }
 },
 "nbformat": 4,
 "nbformat_minor": 4
}
