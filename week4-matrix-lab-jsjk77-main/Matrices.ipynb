{
 "cells": [
  {
   "cell_type": "markdown",
   "metadata": {},
   "source": [
    "Name: Jonathan Kim\n",
    "\n",
    "Email: jkim185@uncc.edu\n",
    "\n",
    "## Matrices\n",
    "\n",
    "For this lab, you'll be using numpy arrays to design functions that will perform matrix addition and math. If you need to review how Matrix addition and multiplication work, review the following links:\n",
    "\n",
    "- [Multiplication](https://en.wikipedia.org/wiki/Matrix_multiplication)\n",
    "- [Addition](https://en.wikipedia.org/wiki/Matrix_addition)\n",
    "\n",
    "##### A couple of notes:\n",
    "- You should have two functions, one for addition, one for multiplication\n",
    "- These functions should take two parameters, each one being a 2 Dimensional numpy array. It should return a numpy array.\n",
    "- I am testing you on your ability to create the necessary loops, the arrays themselves, and your ability to use indexing and splicing in the context of a numpy array. You should not use any of the built in numpy methods to shortcut this process.\n",
    "- Show your results. Let us see your test cases and what each produced.\n",
    "\n",
    "Extra Credit opportunity: Bonus points can be earned for including the checks that would determine if addition or multiplication is allowed based on the dimensions of each array."
   ]
  },
  {
   "cell_type": "markdown",
   "metadata": {},
   "source": [
    "# Addition Function\n",
    "This function takes in two 2-Dimensional numpy arrays and returns another numpy array.\n",
    "The criteria is that the two input arrays must be same size for extra credit."
   ]
  },
  {
   "cell_type": "code",
   "execution_count": 1,
   "metadata": {},
   "outputs": [
    {
     "name": "stdout",
     "output_type": "stream",
     "text": [
      "[3, 4]\n",
      "[5, 6]\n",
      "[7, 8]\n",
      "3\n",
      "4\n",
      "5\n"
     ]
    }
   ],
   "source": [
    "#Work\n",
    "arr = [[3,4],[5,6],[7,8]]\n",
    "for i in arr:\n",
    "    print(i)\n",
    "arr2 = [3,4,5]\n",
    "for i in arr2:\n",
    "    print(i)"
   ]
  },
  {
   "cell_type": "code",
   "execution_count": 2,
   "metadata": {},
   "outputs": [],
   "source": [
    "def addition(x,y):\n",
    "    final = []\n",
    "    xrow, xcol, yrow, ycol = 0, 0, 0, 0\n",
    "    temp = 0\n",
    "    for i in x: # Recording the sizes of both arrays\n",
    "        xrow = len(i)\n",
    "        xcol += 1 \n",
    "    for j in y:\n",
    "        yrow = len(j)\n",
    "        ycol += 1\n",
    "    if (xrow == yrow) and (xcol == ycol): # Checking for same sized arrays\n",
    "#         print(xrow,yrow,xcol,ycol)\n",
    "        for a in range(len(x)):\n",
    "            temp = [] # Resets row\n",
    "            for b in range(len(x[0])):\n",
    "                temp.append(x[a][b] + y[a][b]) # Adds to row\n",
    "            final.append(temp) # Adds each row\n",
    "    else: # Checks for different sized arrays\n",
    "        return \"The matrices are not the same size and cannot be added. The direct sum/Kronecker sum is needed.\"\n",
    "    return final"
   ]
  },
  {
   "cell_type": "markdown",
   "metadata": {},
   "source": [
    "## Addition Function Test\n",
    "Limit testing for same size arrays, different row numbers, and different column numbers."
   ]
  },
  {
   "cell_type": "code",
   "execution_count": 3,
   "metadata": {},
   "outputs": [
    {
     "data": {
      "text/plain": [
       "[[8, 10], [12, 14], [16, 18], [20, 22]]"
      ]
     },
     "execution_count": 3,
     "metadata": {},
     "output_type": "execute_result"
    }
   ],
   "source": [
    "# Same Size Arrays\n",
    "arr1 = [[1,2],\n",
    "    [3,4],\n",
    "    [5,6],\n",
    "    [7,8]]\n",
    "arr2 = [[7,8],\n",
    "    [9,10],\n",
    "    [11,12],\n",
    "    [13,14]]\n",
    "addition(arr1,arr2)"
   ]
  },
  {
   "cell_type": "code",
   "execution_count": 4,
   "metadata": {},
   "outputs": [
    {
     "data": {
      "text/plain": [
       "'The matrices are not the same size and cannot be added. The direct sum/Kronecker sum is needed.'"
      ]
     },
     "execution_count": 4,
     "metadata": {},
     "output_type": "execute_result"
    }
   ],
   "source": [
    "# Different row number\n",
    "arr1 = [[1,2],\n",
    "    [3,4],\n",
    "    [5,6]]\n",
    "arr2 = [[7,8],\n",
    "    [9,10],\n",
    "    [11,12],\n",
    "    [13,14]]\n",
    "addition(arr1,arr2)"
   ]
  },
  {
   "cell_type": "code",
   "execution_count": 5,
   "metadata": {},
   "outputs": [
    {
     "data": {
      "text/plain": [
       "'The matrices are not the same size and cannot be added. The direct sum/Kronecker sum is needed.'"
      ]
     },
     "execution_count": 5,
     "metadata": {},
     "output_type": "execute_result"
    }
   ],
   "source": [
    "# Different column number\n",
    "arr1 = [[1,2,3],\n",
    "    [3,4,3],\n",
    "    [5,6,3],\n",
    "    [7,8,3]]\n",
    "arr2 = [[7,8],\n",
    "    [9,10],\n",
    "    [11,12],\n",
    "    [13,14]]\n",
    "addition(arr1,arr2)"
   ]
  },
  {
   "cell_type": "markdown",
   "metadata": {},
   "source": [
    "# Multiplication Function\n",
    "Takes in two numpy arrays and provides the product array.\n",
    "Criteria: the columns of the first array must match the rows of the second array."
   ]
  },
  {
   "cell_type": "code",
   "execution_count": 6,
   "metadata": {},
   "outputs": [],
   "source": [
    "def multiplication(x,y):\n",
    "    final = []\n",
    "    xrow, xcol, yrow, ycol = 0, 0, 0, 0\n",
    "    temp = 0\n",
    "    for i in x: # Recording the sizes of both arrays\n",
    "        xrow = len(i)\n",
    "        xcol += 1 \n",
    "    for j in y:\n",
    "        yrow = len(j)\n",
    "        ycol += 1\n",
    "    if (xrow == ycol): # Checking for l x m and m x n matrices\n",
    "#         print(xrow,ycol,xcol,yrow)\n",
    "#         print(xrow,yrow,max(xrow, yrow))\n",
    "        row = max(xrow, yrow)\n",
    "        col = max(xcol, ycol)\n",
    "        for a in range(len(x)):\n",
    "            temp = [] # Resets row\n",
    "            for b in range(len(y[0])):\n",
    "                sumtemp = 0\n",
    "                for c in range(len(x[0])):\n",
    "                    sumtemp += x[a][c] * y[c][b] # Adds products\n",
    "                temp.append(sumtemp) # Adds to row\n",
    "            final.append(temp) \n",
    "    else:\n",
    "        return \"Matrix multiplication is not possible.\"\n",
    "    return final"
   ]
  },
  {
   "cell_type": "markdown",
   "metadata": {},
   "source": [
    "## Multiplication Function Test\n",
    "Testing for same size, different row/column number, and correct arrays with swapped order included."
   ]
  },
  {
   "cell_type": "code",
   "execution_count": 7,
   "metadata": {},
   "outputs": [
    {
     "data": {
      "text/plain": [
       "'Matrix multiplication is not possible.'"
      ]
     },
     "execution_count": 7,
     "metadata": {},
     "output_type": "execute_result"
    }
   ],
   "source": [
    "# Same Size Arrays\n",
    "arr1 = [[1,2],\n",
    "    [3,4],\n",
    "    [5,6],\n",
    "    [7,8]]\n",
    "arr2 = [[7,8],\n",
    "    [9,10],\n",
    "    [11,12],\n",
    "    [13,14]]\n",
    "multiplication(arr1,arr2)"
   ]
  },
  {
   "cell_type": "code",
   "execution_count": 8,
   "metadata": {},
   "outputs": [
    {
     "data": {
      "text/plain": [
       "'Matrix multiplication is not possible.'"
      ]
     },
     "execution_count": 8,
     "metadata": {},
     "output_type": "execute_result"
    }
   ],
   "source": [
    "# Different row number\n",
    "arr1 = [[1,2],\n",
    "    [3,4],\n",
    "    [5,6]]\n",
    "arr2 = [[7,8],\n",
    "    [9,10],\n",
    "    [11,12],\n",
    "    [13,14]]\n",
    "multiplication(arr1,arr2)"
   ]
  },
  {
   "cell_type": "code",
   "execution_count": 9,
   "metadata": {},
   "outputs": [
    {
     "data": {
      "text/plain": [
       "'Matrix multiplication is not possible.'"
      ]
     },
     "execution_count": 9,
     "metadata": {},
     "output_type": "execute_result"
    }
   ],
   "source": [
    "# Different column number\n",
    "arr1 = [[1,2,3],\n",
    "    [3,4,3],\n",
    "    [5,6,3],\n",
    "    [7,8,3]]\n",
    "arr2 = [[7,8],\n",
    "    [9,10],\n",
    "    [11,12],\n",
    "    [13,14]]\n",
    "multiplication(arr1,arr2)"
   ]
  },
  {
   "cell_type": "code",
   "execution_count": 10,
   "metadata": {},
   "outputs": [
    {
     "data": {
      "text/plain": [
       "[[58, 64, 22, 28], [90, 100, 30, 40], [122, 136, 38, 52], [154, 172, 46, 64]]"
      ]
     },
     "execution_count": 10,
     "metadata": {},
     "output_type": "execute_result"
    }
   ],
   "source": [
    "# Correct row and column numbers\n",
    "arr1 = [[1,2,3],\n",
    "    [3,4,3],\n",
    "    [5,6,3],\n",
    "    [7,8,3]]\n",
    "arr2 = [[7,8,1,2],\n",
    "    [9,10,3,4],\n",
    "    [11,12,5,6]]\n",
    "multiplication(arr1,arr2)"
   ]
  },
  {
   "cell_type": "code",
   "execution_count": 11,
   "metadata": {},
   "outputs": [
    {
     "data": {
      "text/plain": [
       "[[50, 68, 54], [82, 108, 78], [114, 148, 102]]"
      ]
     },
     "execution_count": 11,
     "metadata": {},
     "output_type": "execute_result"
    }
   ],
   "source": [
    "multiplication(arr2,arr1)"
   ]
  },
  {
   "cell_type": "code",
   "execution_count": null,
   "metadata": {},
   "outputs": [],
   "source": []
  }
 ],
 "metadata": {
  "kernelspec": {
   "display_name": "Python 3 (ipykernel)",
   "language": "python",
   "name": "python3"
  },
  "language_info": {
   "codemirror_mode": {
    "name": "ipython",
    "version": 3
   },
   "file_extension": ".py",
   "mimetype": "text/x-python",
   "name": "python",
   "nbconvert_exporter": "python",
   "pygments_lexer": "ipython3",
   "version": "3.9.7"
  }
 },
 "nbformat": 4,
 "nbformat_minor": 4
}
